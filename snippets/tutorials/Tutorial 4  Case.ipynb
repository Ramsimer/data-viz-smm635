{
 "cells": [
  {
   "cell_type": "markdown",
   "metadata": {},
   "source": [
    "## Tutorial 4: Case study: The marketing and promotion analysis\n"
   ]
  },
  {
   "cell_type": "markdown",
   "metadata": {},
   "source": [
    "### Context \n",
    "You are the Commercial Director of ABC, a well-known grocery chain that sells a variety of foods both in-person and online. The board has allowed more resources to be used for more marketing or promotions as revenue and profit have been dropping in previous years. \n",
    "\n",
    "### Data \n",
    "1. From late 2015 to late 2020, historical data at the weekly level includes the income, units sold, and expenditures related to the different items offered at ABC. Two different types of investments have been made to boost performance: \n",
    "\n",
    "\n",
    "2. Promotions:\n",
    "- One recent 4-week promotion (15% off all items)\n",
    "- Large-scale TV advertising campaigns on 11th January 2018 and 22nd August 2019, which cost c.£1m each. Each campaign lasted for 5 weeks \n",
    "\n",
    "### Questions we want you to answer\n",
    "- Where has the decline in performance been occurring?\n",
    "  \n",
    "\n",
    "- What was the impact of previous promotions and marketing? \n",
    "\n",
    "\n",
    "- Should additional resources be put into marketing or promotions?\n",
    "\n",
    "\n",
    "- Bonus: Do we see any impact on sales due to the coronavirus? What is the impact?\n"
   ]
  }
 ],
 "metadata": {
  "kernelspec": {
   "display_name": "Python 3.9.12 ('dbs')",
   "language": "python",
   "name": "python3"
  },
  "language_info": {
   "codemirror_mode": {
    "name": "ipython",
    "version": 3
   },
   "file_extension": ".py",
   "mimetype": "text/x-python",
   "name": "python",
   "nbconvert_exporter": "python",
   "pygments_lexer": "ipython3",
   "version": "3.9.12"
  },
  "orig_nbformat": 4,
  "vscode": {
   "interpreter": {
    "hash": "c98151e0df96b55672d511d91bfcafe82973b44481d248d5c9f6e0569ef541ab"
   }
  }
 },
 "nbformat": 4,
 "nbformat_minor": 2
}
